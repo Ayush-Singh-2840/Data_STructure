{
 "cells": [
  {
   "cell_type": "markdown",
   "id": "4cca8a99-356e-44a2-b4a2-7dfac11dfeee",
   "metadata": {},
   "source": [
    "Question 1. Discuss string slicing and provide examples.\n",
    "\n",
    "Answer - String slicing in Python allows you to access a subset of a string. It is called slicing of the string."
   ]
  },
  {
   "cell_type": "markdown",
   "id": "c1f8384f-1aa5-41e1-9c3b-2d8b10282ac0",
   "metadata": {},
   "source": [
    "1. Basic Slicing"
   ]
  },
  {
   "cell_type": "code",
   "execution_count": 2,
   "id": "b2ceca32-e5fd-427a-b319-f5f726d8459c",
   "metadata": {},
   "outputs": [
    {
     "name": "stdout",
     "output_type": "stream",
     "text": [
      "Ayush\n"
     ]
    }
   ],
   "source": [
    "a = \"Ayush, Singh\"\n",
    "print(a[0:5])  # output: Ayush\n"
   ]
  },
  {
   "cell_type": "markdown",
   "id": "bf66e0de-ab78-460e-af53-a707bec098f6",
   "metadata": {},
   "source": [
    "2. Slicing with default values:"
   ]
  },
  {
   "cell_type": "code",
   "execution_count": 3,
   "id": "8e18a97e-5ee9-4ae4-9953-82736471ae8d",
   "metadata": {},
   "outputs": [
    {
     "name": "stdout",
     "output_type": "stream",
     "text": [
      "Ayush\n",
      "Singh\n"
     ]
    }
   ],
   "source": [
    "print(a[:5])  # output: Ayush\n",
    "print(a[7:])  # output: Singh\n"
   ]
  },
  {
   "cell_type": "markdown",
   "id": "65e86ba4-69ca-4eca-858a-be4784f789a5",
   "metadata": {},
   "source": [
    "3. Negative Indices"
   ]
  },
  {
   "cell_type": "code",
   "execution_count": 4,
   "id": "dd0e9e67-acb3-4f39-b922-0abd6e9be59d",
   "metadata": {},
   "outputs": [
    {
     "name": "stdout",
     "output_type": "stream",
     "text": [
      " Singh\n",
      "Ayush\n"
     ]
    }
   ],
   "source": [
    "print(a[-6:])  # output: Singh\n",
    "print(a[:-7])  # output: Ayush\n"
   ]
  },
  {
   "cell_type": "markdown",
   "id": "fc3ce383-a0cb-4ea5-a49a-231bffaed639",
   "metadata": {},
   "source": [
    "4. Using Step:"
   ]
  },
  {
   "cell_type": "code",
   "execution_count": 5,
   "id": "0db7e26d-88bf-47ae-9e31-d2361add72e3",
   "metadata": {},
   "outputs": [
    {
     "name": "stdout",
     "output_type": "stream",
     "text": [
      "As n\n",
      "yhSg\n"
     ]
    }
   ],
   "source": [
    "print(a[::3])  # output: As n\n",
    "print(a[1::3])  # output: yhSg\n"
   ]
  },
  {
   "cell_type": "markdown",
   "id": "04b56c83-5e24-43df-bd00-574d005f302a",
   "metadata": {},
   "source": [
    "5. Reversing a String:"
   ]
  },
  {
   "cell_type": "code",
   "execution_count": 6,
   "id": "70f1e4d3-2d38-486e-8005-828d76242421",
   "metadata": {},
   "outputs": [
    {
     "name": "stdout",
     "output_type": "stream",
     "text": [
      "hgniS ,hsuyA\n"
     ]
    }
   ],
   "source": [
    "print(a[::-1])  # output: hgniS ,hsuyA\n"
   ]
  },
  {
   "cell_type": "markdown",
   "id": "e2ee8502-3202-48dc-ba51-03ab09612d8d",
   "metadata": {},
   "source": [
    "6. Slicing With Specific Step"
   ]
  },
  {
   "cell_type": "code",
   "execution_count": 7,
   "id": "7e8091e9-d0f0-435f-873e-310aa2a00591",
   "metadata": {},
   "outputs": [
    {
     "name": "stdout",
     "output_type": "stream",
     "text": [
      "ys,S\n"
     ]
    }
   ],
   "source": [
    "print(a[1:9:2])  # output: ys,S\n"
   ]
  },
  {
   "cell_type": "markdown",
   "id": "fccedbe9-401f-412b-8a3c-22a918139166",
   "metadata": {},
   "source": [
    "Question 2. Explain the key features of lists in Python.\n",
    "\n",
    "Answer - Lists in Python are versatile, mutable sequences typically used to store collections of items. The key features of lists in Python are:\n",
    "\n",
    "1. Ordered: Lists maintain the order of elements. The elements are stored in the sequence they are added.\n",
    "2. Mutable: You can modify lists after they are created. This includes adding, removing, or changing elements.\n",
    "3. Dynamic Size: Lists can grow or shrink in size as needed. You don’t have to declare a size beforehand.\n",
    "4. Heterogeneous: Lists can contain elements of different data types, including integers, strings, and even other lists.\n",
    "5. Indexing and Slicing: You can access elements using zero-based indexing and extract portions of the list with slicing. For example, my_list[2] retrieves the third element, and my_list[1:4] retrieves elements from index 1 to 3.\n",
    "6. Methods: Lists come with several built-in methods, such as append(), extend(), insert(), remove(), pop(), and sort(), which help with various operations on the list.\n",
    "7. Iterable: Lists can be iterated over in loops, such as for loops, which makes it easy to process each element.\n",
    "8. Nested Lists: Lists can contain other lists, which allows for the creation of complex data structures like matrices."
   ]
  },
  {
   "cell_type": "markdown",
   "id": "9dcf5bcd-fd8f-44f2-9f94-66804f8ea08f",
   "metadata": {},
   "source": [
    "Question 3. Describe how to access, modify, and delete elements in a list with examples."
   ]
  },
  {
   "cell_type": "markdown",
   "id": "a542c497-3d8c-4099-9901-5d89703ec1fa",
   "metadata": {},
   "source": [
    "Accessing Elements: You can access elements in a list using indexing. Python uses zero-based indexing, so the first element is at index 0, the second at index 1, and so on."
   ]
  },
  {
   "cell_type": "code",
   "execution_count": 8,
   "id": "1b7c417a-873b-413c-bef1-d80db9327f2c",
   "metadata": {},
   "outputs": [
    {
     "name": "stdout",
     "output_type": "stream",
     "text": [
      "Banana\n",
      "Orange\n"
     ]
    }
   ],
   "source": [
    "grocery_list = [\"Banana\", \"Orange\", \"Flour\"]\n",
    "print(grocery_list[0])  # output: Banana\n",
    "print(grocery_list[-2])  # output: Orange\n"
   ]
  },
  {
   "cell_type": "markdown",
   "id": "e8e82256-156c-4c6c-a180-10f4b4e38c75",
   "metadata": {},
   "source": [
    "Modifying Elements: Lists are mutable, meaning you can change their elements. You can assign new values to specific indices."
   ]
  },
  {
   "cell_type": "code",
   "execution_count": 9,
   "id": "240d726e-09c3-4716-b5fb-c7e57408739d",
   "metadata": {},
   "outputs": [
    {
     "name": "stdout",
     "output_type": "stream",
     "text": [
      "Apple\n"
     ]
    }
   ],
   "source": [
    "grocery_list[1] = \"Apple\"\n",
    "print(grocery_list[1])  # output: Apple\n"
   ]
  },
  {
   "cell_type": "markdown",
   "id": "596c28e3-4268-460d-b9e6-a73f2c9de4ff",
   "metadata": {},
   "source": [
    "Delete Elements: The del statement can remove an element by its index or delete the entire list."
   ]
  },
  {
   "cell_type": "code",
   "execution_count": 15,
   "id": "fe58465f-c4b4-43f3-a5c2-d487696217f0",
   "metadata": {},
   "outputs": [
    {
     "name": "stdout",
     "output_type": "stream",
     "text": [
      "[10, 'Ayush', 'Singh', 40, 'Kumar']\n"
     ]
    }
   ],
   "source": [
    "my_list =[10 , \"Ayush\" , 20 , \"Singh\" , 40 , \"Kumar\"]\n",
    "del my_list[2]\n",
    "print(my_list) #Index 2 = 20 is Deleted From List"
   ]
  },
  {
   "cell_type": "code",
   "execution_count": null,
   "id": "6d39d1c9-8c62-4a64-bfca-d057280f598c",
   "metadata": {},
   "outputs": [],
   "source": []
  },
  {
   "cell_type": "markdown",
   "id": "106b6614-e018-4537-ab99-628eb4743c67",
   "metadata": {},
   "source": [
    "Question 4. Compare and contrast tuples and lists with examples.\n",
    "\n",
    "Answer : Tuples and lists are both used to store collections of items in Python."
   ]
  },
  {
   "cell_type": "markdown",
   "id": "4abe52c2-3b53-46bf-b0b5-c6b0c557bcc1",
   "metadata": {},
   "source": [
    "1. Mutability\n",
    "- Tuples are immutable. Once a tuple is created, its contents cannot be changed. This means you can't add, remove, or modify elements after the tuple is created.\n",
    "- Lists are mutable. You can modify, add, or remove elements in a list after it has been created."
   ]
  },
  {
   "cell_type": "code",
   "execution_count": 17,
   "id": "70d81dd0-deee-4cac-ab01-958b8d64cdb2",
   "metadata": {},
   "outputs": [
    {
     "name": "stdout",
     "output_type": "stream",
     "text": [
      "[0, 2, 3]\n"
     ]
    }
   ],
   "source": [
    "#examples\n",
    "\n",
    "# Tuple\n",
    "my_tuple = (1, 100, 3)\n",
    "# This is Invalid\n",
    "# my_tuple[0] = 10\n",
    "\n",
    "# List\n",
    "my_list = [1, 2, 3]\n",
    "my_list[0] = 0  # This is valid\n",
    "print(my_list)  # Output: [0, 2, 3]\n"
   ]
  },
  {
   "cell_type": "markdown",
   "id": "c21adc15-df48-4147-8b1d-8a8dbe48693d",
   "metadata": {},
   "source": [
    "2. Syntax\n",
    "Tuples use parentheses () for creation.\n",
    "Lists use square brackets []."
   ]
  },
  {
   "cell_type": "code",
   "execution_count": 19,
   "id": "9e0b0a75-6a30-40fb-aa6d-12a8c59c27dd",
   "metadata": {},
   "outputs": [],
   "source": [
    "#example\n",
    "\n",
    "# Tuple\n",
    "my_tuple = (1, 2, 3)\n",
    "\n",
    "# List\n",
    "my_list = [1, 2, 3]\n",
    "\n",
    "\n"
   ]
  },
  {
   "cell_type": "markdown",
   "id": "79526e61-7462-4dab-80fa-8c854efbfe5b",
   "metadata": {},
   "source": [
    "3. Performance\n",
    "Tuples are generally faster than lists for iteration and access due to their immutability.\n",
    "Lists have more overhead due to their mutability and additional functionalities."
   ]
  },
  {
   "cell_type": "code",
   "execution_count": 20,
   "id": "90bc071e-9438-4a84-8784-14e03554f6ce",
   "metadata": {},
   "outputs": [
    {
     "name": "stdout",
     "output_type": "stream",
     "text": [
      "Tuple creation time: 0.015100821852684021\n",
      "List creation time: 0.060559019446372986\n"
     ]
    }
   ],
   "source": [
    "#examples\n",
    "\n",
    "import timeit\n",
    "\n",
    "# Timing tuple\n",
    "tuple_time = timeit.timeit('t = (1, 2, 3)', number=1000000)\n",
    "print(f'Tuple creation time: {tuple_time}')\n",
    "\n",
    "# Timing list\n",
    "list_time = timeit.timeit('l = [1, 2, 3]', number=1000000)\n",
    "print(f'List creation time: {list_time}')\n",
    "\n"
   ]
  },
  {
   "cell_type": "markdown",
   "id": "a41706fd-ff3e-4a66-9afc-942e5a84e7c1",
   "metadata": {},
   "source": [
    "4. Use Cases\n",
    "Tuples are typically used for fixed collections of items where immutability is desired. They can also be used as keys in dictionaries, whereas lists cannot.\n",
    "Lists are used for collections of items that may need to be modified or where you need to perform operations like appending or removing elements."
   ]
  },
  {
   "cell_type": "code",
   "execution_count": 21,
   "id": "fc0dd12f-8516-4ae1-8980-a332c488aa33",
   "metadata": {},
   "outputs": [],
   "source": [
    "#examples\n",
    "\n",
    "# Tuple as dictionary key\n",
    "my_dict = {(1, 2): 'value'}  # This is valid\n",
    "\n",
    "# List as dictionary key\n",
    "# my_dict = {[1, 2]: 'value'}  # This will raise an error\n"
   ]
  },
  {
   "cell_type": "markdown",
   "id": "bbe60df8-26be-4fca-a4c8-d01930d7d9ce",
   "metadata": {},
   "source": [
    "5. Methods\n",
    "Tuples have fewer methods available. They mainly support count() and index().\n",
    "Lists have a wide range of methods, including append(), remove(), extend(), and sort()."
   ]
  },
  {
   "cell_type": "code",
   "execution_count": 22,
   "id": "9155556f-73f4-4e64-bdf5-f33a73883808",
   "metadata": {},
   "outputs": [
    {
     "name": "stdout",
     "output_type": "stream",
     "text": [
      "2\n",
      "3\n",
      "[1, 3, 4]\n"
     ]
    }
   ],
   "source": [
    "#examples\n",
    "\n",
    "# Tuple methods\n",
    "my_tuple = (1, 2, 2, 3)\n",
    "print(my_tuple.count(2))  # Output: 2\n",
    "print(my_tuple.index(3))  # Output: 3\n",
    "\n",
    "# List methods\n",
    "my_list = [1, 2, 3]\n",
    "my_list.append(4)\n",
    "my_list.remove(2)\n",
    "my_list.sort()\n",
    "print(my_list)  # Output: [1, 3, 4]\n"
   ]
  },
  {
   "cell_type": "code",
   "execution_count": null,
   "id": "d505dc12-6617-4b48-9601-db46fdef40ef",
   "metadata": {},
   "outputs": [],
   "source": []
  },
  {
   "cell_type": "markdown",
   "id": "8c809c0b-4023-49ea-8b64-70e0a0dcc3c1",
   "metadata": {},
   "source": [
    "Question 5. Describe the key features of sets and provide examples of their use:\n",
    "\n",
    "Answer: Key Features Of Sets\n",
    "\n",
    "1.Unordered Collection:\n",
    "\n",
    "- Sets do not maintain any particular order. Elements in a set are stored in an unordered manner.\n",
    "- Example: {3, 1, 4, 2} may be stored as {1, 2, 3, 4} or any other order internally.\n",
    "\n",
    "2.No Duplicate Elements:\n",
    "\n",
    "- A set automatically removes duplicates. Each element must be unique.\n",
    "- Example: {1, 2, 2, 3} results in {1, 2, 3}.\n",
    "\n",
    "3.Mutable:\n",
    "\n",
    "- Sets can be modified after their creation. Elements can be added or removed.\n",
    "- Example: Starting with {1, 2, 3}, you can add 4 to get {1, 2, 3, 4}.\n",
    "\n",
    "4.Immutable Subtype:\n",
    "\n",
    "- While standard sets are mutable, Python provides frozenset, which is an immutable version.\n",
    "- Example: frozenset([1, 2, 3]) cannot be modified once created.\n",
    "\n",
    "5.Membership Testing:\n",
    "\n",
    "- Checking whether an element exists in a set is very efficient (average time complexity is O(1)).\n",
    "- Example: 3 in {1, 2, 3, 4} returns True.\n",
    "\n",
    "6.Set Operations:\n",
    "\n",
    "- Sets support operations like union, intersection, difference, and symmetric difference.\n",
    "  Example:\n",
    "- Union: {1, 2} | {2, 3} results in {1, 2, 3}\n",
    "- Intersection: {1, 2} & {2, 3} results in {2}\n",
    "- Difference: {1, 2} - {2, 3} results in {1}\n",
    "- Symmetric Difference: {1, 2} ^ {2, 3} results in {1, 3}"
   ]
  },
  {
   "cell_type": "raw",
   "id": "2aa7b134-b1aa-4b34-8cd7-fd9f1ae9f54e",
   "metadata": {},
   "source": [
    "Example Of Set Uses:"
   ]
  },
  {
   "cell_type": "markdown",
   "id": "1b2b7366-5933-4fea-b4cc-d0dd01d3dc43",
   "metadata": {},
   "source": [
    "1.Set Operations:\n",
    "\n",
    "- Sets support operations like union, intersection, difference, and symmetric difference.\n",
    "\n",
    "Example:\n",
    "\n",
    "- Union: {1, 2} | {2, 3} results in {1, 2, 3}\n",
    "- Intersection: {1, 2} & {2, 3} results in {2}\n",
    "- Difference: {1, 2} - {2, 3} results in {1}\n",
    "- Symmetric Difference: {1, 2} ^ {2, 3} results in {1, 3}\n",
    "\n",
    "\n",
    "2.Mathematical Operations:\n",
    "\n",
    "- Sets are used to perform mathematical set operations like unions and intersections.\n",
    "- Example: Finding common friends between two groups"
   ]
  },
  {
   "cell_type": "code",
   "execution_count": 27,
   "id": "5a37a3a7-3790-4187-a63f-a67a6bcbf28e",
   "metadata": {},
   "outputs": [],
   "source": [
    "friends_group1 = {\"Rahul\", \"Shyam\" , \"Ayush\"}\n",
    "friends_group2 = {\"Rahul\", \"Shyam\" , \"Suresh\"}\n",
    "common_friends = friends_group1 & friends_group2  # {\"Rahul, Shyam\"}\n"
   ]
  },
  {
   "cell_type": "markdown",
   "id": "dce29017-9619-49dc-809a-20c860011c20",
   "metadata": {},
   "source": [
    "3.Membership Testing:\n",
    "\n",
    "-  Sets are used when you need to check if an element belongs to a collection frequently.\n",
    "-  Example: Checking for banned users"
   ]
  },
  {
   "cell_type": "code",
   "execution_count": 28,
   "id": "082038d2-6707-4420-a88c-13ee038355f3",
   "metadata": {},
   "outputs": [
    {
     "name": "stdout",
     "output_type": "stream",
     "text": [
      "Access denied\n"
     ]
    }
   ],
   "source": [
    "banned_users = {\"user1\", \"user2\", \"user3\"}\n",
    "if \"user2\" in banned_users:\n",
    "    print(\"Access denied\")\n"
   ]
  },
  {
   "cell_type": "code",
   "execution_count": null,
   "id": "687eb3aa-64e7-4714-8040-5ab4119ae864",
   "metadata": {},
   "outputs": [],
   "source": []
  },
  {
   "cell_type": "markdown",
   "id": "fd7e71ef-d468-4df6-950a-b38058cafd6e",
   "metadata": {},
   "source": [
    "Question 6. Discuss the use cases of tuples and sets in Python programming.\n",
    "\n",
    "Answer: Use cases of Tuples\n",
    "\n",
    "1. Immutable Collections:\n",
    "\n",
    "Tuples are immutable, making them suitable for storing read-only data.\n",
    "Example: Storing coordinates of a point (x, y)"
   ]
  },
  {
   "cell_type": "code",
   "execution_count": 30,
   "id": "460aeb8c-cad4-4697-9d92-06dcb03fc09c",
   "metadata": {},
   "outputs": [],
   "source": [
    "point = (10, 20)\n"
   ]
  },
  {
   "cell_type": "markdown",
   "id": "fe09a14a-7abf-41ce-80e4-af2512e80227",
   "metadata": {},
   "source": [
    "2. Function Returns:\n",
    "\n",
    "Tuples are often used for functions that return multiple values.\n",
    "Example: Returning multiple values from a function."
   ]
  },
  {
   "cell_type": "code",
   "execution_count": 32,
   "id": "37d34b98-97fa-49aa-8df4-2803506c09e3",
   "metadata": {},
   "outputs": [],
   "source": [
    "def get_user_info():\n",
    "    return \"Ayush\", 195, \"Data Scientist\"\n",
    "\n",
    "name, age, occupation = get_user_info()\n"
   ]
  },
  {
   "cell_type": "markdown",
   "id": "6f885725-b7f1-4e7a-8571-c885b5347eca",
   "metadata": {},
   "source": [
    "3. Fixed Data Structure:\n",
    "\n",
    "Tuples are useful for grouping related but different types of data together.\n",
    "Example: Storing a record of a book with title, author, and year:"
   ]
  },
  {
   "cell_type": "code",
   "execution_count": null,
   "id": "8c267a44-e0d2-4771-a4ae-3697e6e7dfe1",
   "metadata": {},
   "outputs": [],
   "source": [
    "book = (\"1984\", \"George Orwell\", 1949)"
   ]
  },
  {
   "cell_type": "markdown",
   "id": "f7166aa1-fd26-45a0-b6ea-a0328c54c20f",
   "metadata": {},
   "source": [
    "4. Dictionary Keys:\n",
    "\n",
    "Tuples can be used as keys in dictionaries because they are immutable.\n",
    "Example: Using a tuple as a dictionary key."
   ]
  },
  {
   "cell_type": "code",
   "execution_count": 33,
   "id": "eec663ae-7067-46df-a298-f71d3e3939ce",
   "metadata": {},
   "outputs": [],
   "source": [
    "locations = {(40.7128, -74.0060): \"New York\", (34.0522, -118.2437): \"Los Angeles\"}\n"
   ]
  },
  {
   "cell_type": "markdown",
   "id": "70faf4c9-2aab-4b43-a68d-55adc019d48a",
   "metadata": {},
   "source": [
    "5. Data Integrity:\n",
    "\n",
    "Ensuring that a collection of values remains unchanged throughout the program.\n",
    "Example: Configuration settings that should not be altered"
   ]
  },
  {
   "cell_type": "code",
   "execution_count": null,
   "id": "f9c37b68-e192-4f75-98f9-19aab36e1745",
   "metadata": {},
   "outputs": [],
   "source": [
    "config = (\"localhost\", 8080)"
   ]
  },
  {
   "cell_type": "markdown",
   "id": "7cc8a2a6-923b-4d74-9378-cc856a02918a",
   "metadata": {},
   "source": [
    "#Use Cases Of Sets \n",
    "\n",
    "1. Removing Duplicates:\n",
    "\n",
    "Sets automatically remove duplicates, making them useful for processing collections where uniqueness is required.\n",
    "Example: Removing duplicates from a list"
   ]
  },
  {
   "cell_type": "code",
   "execution_count": null,
   "id": "fa2f888f-931e-405f-a90b-eb05c1ced0d1",
   "metadata": {},
   "outputs": [],
   "source": [
    "unique_numbers = set([1, 2, 2, 3, 4, 4])"
   ]
  },
  {
   "cell_type": "markdown",
   "id": "e59d8c8c-15ff-42b8-b6c6-241d316b87de",
   "metadata": {},
   "source": [
    "2. Membership Testing:\n",
    "\n",
    "Checking if an item exists in a set is very efficient.\n",
    "Example: Checking for banned users"
   ]
  },
  {
   "cell_type": "code",
   "execution_count": null,
   "id": "e3c5c443-c75b-4374-b42b-bb95239e36a4",
   "metadata": {},
   "outputs": [],
   "source": [
    "banned_users = {\"user1\", \"user2\", \"user3\"}\n",
    "if \"user2\" in banned_users:\n",
    "    print(\"Access denied\")"
   ]
  },
  {
   "cell_type": "markdown",
   "id": "5cdcc983-74b3-48da-9efe-29ab1dc5a7b4",
   "metadata": {},
   "source": [
    "3. Mathematical Set Operations:\n",
    "\n",
    "Sets support operations like union, intersection, difference, and symmetric difference.\n",
    "Example: Finding common elements in two sets"
   ]
  },
  {
   "cell_type": "code",
   "execution_count": null,
   "id": "173b7dd6-6bea-48b6-8e36-d50d614d02a3",
   "metadata": {},
   "outputs": [],
   "source": [
    "set1 = {1, 2, 3}\n",
    "set2 = {2, 3, 4}\n",
    "common = set1 & set2  # {2, 3}"
   ]
  },
  {
   "cell_type": "markdown",
   "id": "b80cbd32-ba24-4481-ab22-568a1a5926c6",
   "metadata": {},
   "source": [
    "4. Unique Elements:\n",
    "\n",
    "Maintaining a collection of unique items.\n",
    "Example: Tracking unique visitors to a website:"
   ]
  },
  {
   "cell_type": "code",
   "execution_count": null,
   "id": "df6eaa3f-1aac-4355-9d59-606798b4f85f",
   "metadata": {},
   "outputs": [],
   "source": [
    "visitors = set()\n",
    "visitors.add(\"user1\")\n",
    "visitors.add(\"user2\")\n",
    "visitors.add(\"user1\")  # Duplicate will not be added again"
   ]
  },
  {
   "cell_type": "markdown",
   "id": "1d9914db-0fc2-44e7-8bfd-2a88294bfa09",
   "metadata": {},
   "source": [
    "5. Efficient Data Storage and Retrieval:\n",
    "\n",
    "Sets are often faster than lists for storing and retrieving items due to their hash-based implementation.\n",
    "Example: A spell checker that uses a set of known words to check for spelling errors efficiently."
   ]
  },
  {
   "cell_type": "code",
   "execution_count": null,
   "id": "6207b243-fe73-44b3-a0a3-83a703753bd4",
   "metadata": {},
   "outputs": [],
   "source": []
  },
  {
   "cell_type": "markdown",
   "id": "996739c4-2258-44ef-81bd-b88dee9fed3c",
   "metadata": {},
   "source": [
    "Question 7. Describe how to add, modify, and delete items in a dictionary with examples.\n",
    "\n",
    "Answer : Adding, Modifying, and Deleting Items in a Dictionary.\n",
    "\n",
    "Adding Items -\n",
    "\n",
    "\n",
    "To add an item to a dictionary, you simply assign a value to a new key."
   ]
  },
  {
   "cell_type": "code",
   "execution_count": null,
   "id": "2fd94b35-6414-4c68-9303-ae7a9d4cfe07",
   "metadata": {},
   "outputs": [],
   "source": [
    "# Creating an empty dictionary\n",
    "my_dict = {}\n",
    "\n",
    "# Adding a new key-value pair\n",
    "my_dict['name'] = 'Alice'\n",
    "my_dict['age'] = 25\n",
    "\n",
    "# Printing the dictionary\n",
    "print(my_dict)\n",
    "# Output: {'name': 'Alice', 'age': 25}\n"
   ]
  },
  {
   "cell_type": "markdown",
   "id": "864bfd67-4bc5-42bf-9d0a-4c711b08f3bc",
   "metadata": {},
   "source": [
    "     Modifying Items\n",
    "     \n",
    "To modify an item, you reassign a value to an existing key."
   ]
  },
  {
   "cell_type": "code",
   "execution_count": null,
   "id": "0d13db75-1f7e-4675-b7fd-4cd6a95ceedb",
   "metadata": {},
   "outputs": [],
   "source": [
    "# Existing dictionary\n",
    "my_dict = {'name': 'Ayush', 'age': 25}\n",
    "\n",
    "# Modifying the value associated with an existing key\n",
    "my_dict['age'] = 26\n",
    "\n",
    "# Printing the modified dictionary\n",
    "print(my_dict)\n",
    "# Output: {'name': 'Ayush', 'age': 26}\n"
   ]
  },
  {
   "cell_type": "markdown",
   "id": "cf826a45-b462-4d27-83a3-58e114470d19",
   "metadata": {},
   "source": [
    "    Deleting Items\n",
    "    \n",
    "To delete an item, you can use the del statement "
   ]
  },
  {
   "cell_type": "code",
   "execution_count": null,
   "id": "2dff0a09-37f4-4b2a-a4da-3964f865bfa6",
   "metadata": {},
   "outputs": [],
   "source": [
    "# Existing dictionary\n",
    "my_dict = {'name': 'Ayush', 'age': 26, 'city': 'Jaipur'}\n",
    "\n",
    "# Deleting a key-value pair using del\n",
    "del my_dict['city']\n",
    "\n",
    "# Printing the dictionary after deletion\n",
    "print(my_dict)\n",
    "# Output: {'name': 'Ayush', 'age': 26}\n"
   ]
  },
  {
   "cell_type": "markdown",
   "id": "62f7619d-5a78-4d8b-a5d0-98411bb0e92d",
   "metadata": {},
   "source": [
    "Question 8. Discuss the importance of dictionary keys being immutable and provide examples.\n",
    "\n",
    "Answer : In Python, dictionary keys must be immutable.\n",
    "\n",
    "- Hashability: Dictionary keys must be hashable to maintain the integrity of the dictionary. Hashable objects have a fixed hash value for their lifetime, allowing Python to quickly locate values using the hash table. Immutability ensures that the hash value of a key remains constant.\n",
    "\n",
    "- Consistency: If dictionary keys were mutable, their values could change, leading to unpredictable behavior. This could result in keys becoming unfindable or incorrectly associated with values, breaking the dictionary's consistency.\n",
    "\n",
    "- Performance: Immutable keys improve the performance of dictionaries. Since the keys' hash values don't change, lookups, insertions, and deletions are faster and more efficient.\n",
    "\n",
    "\n",
    "Here Is The Example Of Immutable Keys Which Mention Below."
   ]
  },
  {
   "cell_type": "code",
   "execution_count": null,
   "id": "ae02d4ee-923a-46ba-836e-ccccc6a6cfb3",
   "metadata": {},
   "outputs": [],
   "source": [
    "#String\n",
    "\n",
    "my_dict = {'name': 'Ayush', 'age': 30}\n",
    "print(my_dict['name'])  # Output: Ayush\n"
   ]
  },
  {
   "cell_type": "code",
   "execution_count": null,
   "id": "4f28001a-76c1-4f33-9e3f-61698bb59411",
   "metadata": {},
   "outputs": [],
   "source": [
    "#NUmber Integers,Float\n",
    "\n",
    "my_dict = {1: 'one', 2: 'two', 3.0: 'three'}\n",
    "print(my_dict[1])  # Output: one\n",
    "print(my_dict[3.0])  # Output: three\n"
   ]
  },
  {
   "cell_type": "code",
   "execution_count": null,
   "id": "03fb68ed-abc0-4550-91a0-fe4c2a99f0b0",
   "metadata": {},
   "outputs": [],
   "source": [
    "#Tuples\n",
    "\n",
    "my_dict = {('x', 'y'): 10, (1, 2): 20}\n",
    "print(my_dict[('x', 'y')])  # Output: 10\n"
   ]
  },
  {
   "cell_type": "markdown",
   "id": "a392bdbc-5b25-40bb-ab1f-ffa4a6d1ad3f",
   "metadata": {},
   "source": [
    "Examples of Mutable Objects as Keys (which would raise errors)"
   ]
  },
  {
   "cell_type": "code",
   "execution_count": 35,
   "id": "6e0cff78-c864-4807-9ed8-5a7c83ad60d9",
   "metadata": {},
   "outputs": [
    {
     "ename": "TypeError",
     "evalue": "unhashable type: 'list'",
     "output_type": "error",
     "traceback": [
      "\u001b[0;31m---------------------------------------------------------------------------\u001b[0m",
      "\u001b[0;31mTypeError\u001b[0m                                 Traceback (most recent call last)",
      "Cell \u001b[0;32mIn[36], line 3\u001b[0m\n\u001b[1;32m      1\u001b[0m \u001b[38;5;66;03m#List\u001b[39;00m\n\u001b[0;32m----> 3\u001b[0m my_dict \u001b[38;5;241m=\u001b[39m {[\u001b[38;5;241m1\u001b[39m, \u001b[38;5;241m2\u001b[39m, \u001b[38;5;241m3\u001b[39m]: \u001b[38;5;124m'\u001b[39m\u001b[38;5;124ma list\u001b[39m\u001b[38;5;124m'\u001b[39m}\n\u001b[1;32m      4\u001b[0m \u001b[38;5;66;03m# This will raise a TypeError: unhashable type: 'list'\u001b[39;00m\n",
      "\u001b[0;31mTypeError\u001b[0m: unhashable type: 'list'"
     ]
    }
   ],
   "source": [
    "#List\n",
    "\n",
    "my_dict = {[1, 2, 3]: 'a list'}\n",
    "# This will raise a TypeError: unhashable type: 'list'\n"
   ]
  },
  {
   "cell_type": "code",
   "execution_count": 34,
   "id": "71bfe83e-533d-4e3f-9570-0631bc8661c4",
   "metadata": {},
   "outputs": [
    {
     "ename": "TypeError",
     "evalue": "unhashable type: 'dict'",
     "output_type": "error",
     "traceback": [
      "\u001b[0;31m---------------------------------------------------------------------------\u001b[0m",
      "\u001b[0;31mTypeError\u001b[0m                                 Traceback (most recent call last)",
      "Cell \u001b[0;32mIn[34], line 3\u001b[0m\n\u001b[1;32m      1\u001b[0m \u001b[38;5;66;03m#Dict\u001b[39;00m\n\u001b[0;32m----> 3\u001b[0m my_dict \u001b[38;5;241m=\u001b[39m {{\u001b[38;5;124m'\u001b[39m\u001b[38;5;124mkey\u001b[39m\u001b[38;5;124m'\u001b[39m: \u001b[38;5;124m'\u001b[39m\u001b[38;5;124mvalue\u001b[39m\u001b[38;5;124m'\u001b[39m}: \u001b[38;5;124m'\u001b[39m\u001b[38;5;124manother dict\u001b[39m\u001b[38;5;124m'\u001b[39m}\n\u001b[1;32m      4\u001b[0m \u001b[38;5;66;03m# This will raise a TypeError: unhashable type: 'dict'\u001b[39;00m\n",
      "\u001b[0;31mTypeError\u001b[0m: unhashable type: 'dict'"
     ]
    }
   ],
   "source": [
    "#Dict\n",
    "\n",
    "my_dict = {{'key': 'value'}: 'another dict'}\n",
    "# This will raise a TypeError: unhashable type: 'dict'\n"
   ]
  },
  {
   "cell_type": "code",
   "execution_count": null,
   "id": "95841cd2-2074-4daf-ae00-eef2eab76dc0",
   "metadata": {},
   "outputs": [],
   "source": []
  },
  {
   "cell_type": "code",
   "execution_count": null,
   "id": "66bc031e-df99-4962-aebf-9cac6cc05c44",
   "metadata": {},
   "outputs": [],
   "source": []
  },
  {
   "cell_type": "code",
   "execution_count": null,
   "id": "fede2f9f-ba2e-4d4e-9a6c-319f628cc9fe",
   "metadata": {},
   "outputs": [],
   "source": []
  },
  {
   "cell_type": "code",
   "execution_count": null,
   "id": "e3618d8e-343d-44a6-85b9-987aa4b3c924",
   "metadata": {},
   "outputs": [],
   "source": []
  },
  {
   "cell_type": "code",
   "execution_count": null,
   "id": "67703587-78a3-4ac6-8f05-b53bc4325e87",
   "metadata": {},
   "outputs": [],
   "source": []
  },
  {
   "cell_type": "code",
   "execution_count": null,
   "id": "81d7a875-3aed-4eca-b582-029b87490e18",
   "metadata": {},
   "outputs": [],
   "source": []
  },
  {
   "cell_type": "code",
   "execution_count": null,
   "id": "617b5bc6-fb22-4bee-89a5-62971c8077a9",
   "metadata": {},
   "outputs": [],
   "source": []
  },
  {
   "cell_type": "code",
   "execution_count": null,
   "id": "7a7cc256-9d0a-4a66-afa2-32cecc3ba9a8",
   "metadata": {},
   "outputs": [],
   "source": []
  },
  {
   "cell_type": "code",
   "execution_count": null,
   "id": "52d6fff2-7937-4048-b2b2-679d8039329d",
   "metadata": {},
   "outputs": [],
   "source": []
  },
  {
   "cell_type": "code",
   "execution_count": null,
   "id": "0f3c755d-8a3c-48d0-8e2f-e2276aa1434f",
   "metadata": {},
   "outputs": [],
   "source": []
  },
  {
   "cell_type": "code",
   "execution_count": null,
   "id": "61d6511e-35f1-4d36-8fee-4702e0506df1",
   "metadata": {},
   "outputs": [],
   "source": []
  },
  {
   "cell_type": "code",
   "execution_count": null,
   "id": "bef65a3e-843d-4ef7-9a5d-568f763936b0",
   "metadata": {},
   "outputs": [],
   "source": []
  },
  {
   "cell_type": "code",
   "execution_count": null,
   "id": "2c568cee-84c0-465a-b2f4-ded299ace737",
   "metadata": {},
   "outputs": [],
   "source": []
  },
  {
   "cell_type": "code",
   "execution_count": null,
   "id": "7a297248-dd90-4de4-9ff4-5ebb73472971",
   "metadata": {},
   "outputs": [],
   "source": []
  },
  {
   "cell_type": "code",
   "execution_count": null,
   "id": "34ff43e8-a96e-4b41-9f54-20c7ecb4cd4f",
   "metadata": {},
   "outputs": [],
   "source": []
  },
  {
   "cell_type": "code",
   "execution_count": null,
   "id": "d945a8bf-e764-4111-acb4-618f91e91c10",
   "metadata": {},
   "outputs": [],
   "source": []
  },
  {
   "cell_type": "code",
   "execution_count": null,
   "id": "13fba24e-d474-4af2-9b35-2e906ae032a1",
   "metadata": {},
   "outputs": [],
   "source": []
  },
  {
   "cell_type": "code",
   "execution_count": null,
   "id": "6ab7e6fd-e88e-4e4e-a2d8-29a0b7cc867a",
   "metadata": {},
   "outputs": [],
   "source": []
  },
  {
   "cell_type": "code",
   "execution_count": null,
   "id": "e04cfae3-ed7b-4c50-a4ad-9b003f966231",
   "metadata": {},
   "outputs": [],
   "source": []
  },
  {
   "cell_type": "code",
   "execution_count": null,
   "id": "24ac9661-7ba2-4db6-9675-ec0de19342cd",
   "metadata": {},
   "outputs": [],
   "source": []
  },
  {
   "cell_type": "code",
   "execution_count": null,
   "id": "97e42185-26ad-4d71-985e-fb57f82aed7c",
   "metadata": {},
   "outputs": [],
   "source": []
  },
  {
   "cell_type": "code",
   "execution_count": null,
   "id": "d9263e51-62fc-44a9-b615-a1c281d19f2b",
   "metadata": {},
   "outputs": [],
   "source": []
  },
  {
   "cell_type": "code",
   "execution_count": null,
   "id": "7ba123bc-3c61-46e6-94b4-57fd54a7eb44",
   "metadata": {},
   "outputs": [],
   "source": []
  },
  {
   "cell_type": "code",
   "execution_count": null,
   "id": "9836489b-8c10-46ff-a881-17a9e85af950",
   "metadata": {},
   "outputs": [],
   "source": []
  }
 ],
 "metadata": {
  "kernelspec": {
   "display_name": "Python 3 (ipykernel)",
   "language": "python",
   "name": "python3"
  },
  "language_info": {
   "codemirror_mode": {
    "name": "ipython",
    "version": 3
   },
   "file_extension": ".py",
   "mimetype": "text/x-python",
   "name": "python",
   "nbconvert_exporter": "python",
   "pygments_lexer": "ipython3",
   "version": "3.10.8"
  }
 },
 "nbformat": 4,
 "nbformat_minor": 5
}
